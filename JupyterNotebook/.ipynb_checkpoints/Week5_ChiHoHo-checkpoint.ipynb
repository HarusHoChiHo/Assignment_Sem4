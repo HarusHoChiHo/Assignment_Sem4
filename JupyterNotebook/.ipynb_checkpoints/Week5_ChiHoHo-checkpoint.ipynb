{
 "cells": [
  {
   "cell_type": "markdown",
   "id": "0a591d0b-af5f-471f-8b2f-aca082e105ab",
   "metadata": {},
   "source": [
    "<h1>Assignment 5</h1>"
   ]
  },
  {
   "cell_type": "code",
   "execution_count": 6,
   "id": "7c421103-b9fd-4130-9b74-6a78ba537c6d",
   "metadata": {},
   "outputs": [
    {
     "name": "stdout",
     "output_type": "stream",
     "text": [
      "INFO:tensorflow:Assets written to: C:\\Users\\User\\AppData\\Local\\Temp\\tmp5q7dhjuv\\assets\n"
     ]
    },
    {
     "name": "stderr",
     "output_type": "stream",
     "text": [
      "INFO:tensorflow:Assets written to: C:\\Users\\User\\AppData\\Local\\Temp\\tmp5q7dhjuv\\assets\n"
     ]
    },
    {
     "name": "stdout",
     "output_type": "stream",
     "text": [
      "Saved artifact at 'C:\\Users\\User\\AppData\\Local\\Temp\\tmp5q7dhjuv'. The following endpoints are available:\n",
      "\n",
      "* Endpoint 'serve'\n",
      "  args_0 (POSITIONAL_ONLY): TensorSpec(shape=(None, 784), dtype=tf.float32, name='input_layer_3')\n",
      "Output Type:\n",
      "  TensorSpec(shape=(None, 10), dtype=tf.float32, name=None)\n",
      "Captures:\n",
      "  1532328054224: TensorSpec(shape=(), dtype=tf.resource, name=None)\n",
      "  1532328053264: TensorSpec(shape=(), dtype=tf.resource, name=None)\n",
      "  1532328053072: TensorSpec(shape=(), dtype=tf.resource, name=None)\n",
      "  1532328052304: TensorSpec(shape=(), dtype=tf.resource, name=None)\n",
      "  1532328054800: TensorSpec(shape=(), dtype=tf.resource, name=None)\n",
      "  1532328055376: TensorSpec(shape=(), dtype=tf.resource, name=None)\n"
     ]
    }
   ],
   "source": [
    "import tensorflow as tf\n",
    "\n",
    "keras_model =tf.keras.models.load_model (r\"keras_model.keras\")\n",
    "# Convert the model\n",
    "converter = tf.lite.TFLiteConverter.from_keras_model(keras_model) # path to the SavedModel directory\n",
    "tflite_model = converter.convert()\n",
    "\n",
    "# Save the model.\n",
    "with open(r'model1.tflite', 'wb') as f:\n",
    "  f.write(tflite_model)"
   ]
  },
  {
   "cell_type": "code",
   "execution_count": null,
   "id": "b4f0c55c-510d-43cd-a997-1c9b956a128d",
   "metadata": {},
   "outputs": [],
   "source": []
  },
  {
   "cell_type": "code",
   "execution_count": null,
   "id": "694ecfec-1040-43ad-9428-468db0ccbb6c",
   "metadata": {},
   "outputs": [],
   "source": []
  }
 ],
 "metadata": {
  "kernelspec": {
   "display_name": "Python 3 (ipykernel)",
   "language": "python",
   "name": "python3"
  },
  "language_info": {
   "codemirror_mode": {
    "name": "ipython",
    "version": 3
   },
   "file_extension": ".py",
   "mimetype": "text/x-python",
   "name": "python",
   "nbconvert_exporter": "python",
   "pygments_lexer": "ipython3",
   "version": "3.12.7"
  }
 },
 "nbformat": 4,
 "nbformat_minor": 5
}
