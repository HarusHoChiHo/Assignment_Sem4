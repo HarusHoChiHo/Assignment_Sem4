{
 "cells": [
  {
   "cell_type": "code",
   "id": "09e16040-c38c-4f50-a1af-f5a81f9a1e7b",
   "metadata": {
    "ExecuteTime": {
     "end_time": "2024-11-19T04:03:08.758052Z",
     "start_time": "2024-11-19T04:02:48.186105Z"
    }
   },
   "source": [
    "from selenium.webdriver.common.by import By\n",
    "import time\n",
    "from selenium import webdriver\n",
    "\n",
    "driver = webdriver.Chrome()  # Optional argument, if not specified will search path.\n",
    "driver.get('https://www.centennialcollege.ca/')\n",
    "time.sleep(5) # Let the user actually see something!\n",
    "search_box = driver.find_element(by=By.ID,value='searchTextBox')\n",
    "search_box.send_keys('3408')\n",
    "search_box.submit()\n",
    "time.sleep(5) # Let the user actually see something!\n",
    "targeted=driver.find_element(By.LINK_TEXT, value=\"Software Engineering Technician - Centennial College\")\n",
    "targeted.click()\n",
    "time.sleep(5)\n",
    "driver.quit()"
   ],
   "outputs": [],
   "execution_count": 1
  },
  {
   "cell_type": "code",
   "execution_count": null,
   "id": "d3c875f8-496b-418d-b7f5-af661fdff7cb",
   "metadata": {},
   "outputs": [],
   "source": []
  }
 ],
 "metadata": {
  "kernelspec": {
   "display_name": "Python 3 (ipykernel)",
   "language": "python",
   "name": "python3"
  },
  "language_info": {
   "codemirror_mode": {
    "name": "ipython",
    "version": 3
   },
   "file_extension": ".py",
   "mimetype": "text/x-python",
   "name": "python",
   "nbconvert_exporter": "python",
   "pygments_lexer": "ipython3",
   "version": "3.12.4"
  }
 },
 "nbformat": 4,
 "nbformat_minor": 5
}
