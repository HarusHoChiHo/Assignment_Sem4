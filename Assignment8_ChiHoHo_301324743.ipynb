{
 "cells": [
  {
   "cell_type": "markdown",
   "id": "b6ac20f0-d25d-4694-9146-23cbda3154ce",
   "metadata": {},
   "source": [
    "<h1>Activity 1 - Word Frequencies of a Document</h1>"
   ]
  },
  {
   "cell_type": "code",
   "execution_count": 2,
   "id": "69ebe233-3497-479d-b130-37135e811eaa",
   "metadata": {},
   "outputs": [],
   "source": [
    "import pprint\n",
    "s=\"\"\"At eight o'clock on Thursday morning Arthur didn't feel very good.\"\"\""
   ]
  },
  {
   "cell_type": "code",
   "execution_count": 3,
   "id": "21141fa9-74cd-4e90-8c6e-d2762a3b5f34",
   "metadata": {},
   "outputs": [
    {
     "name": "stdout",
     "output_type": "stream",
     "text": [
      "{' ': 10,\n",
      " \"'\": 2,\n",
      " '.': 1,\n",
      " 'A': 2,\n",
      " 'T': 1,\n",
      " 'a': 1,\n",
      " 'c': 2,\n",
      " 'd': 4,\n",
      " 'e': 4,\n",
      " 'f': 1,\n",
      " 'g': 3,\n",
      " 'h': 3,\n",
      " 'i': 3,\n",
      " 'k': 1,\n",
      " 'l': 2,\n",
      " 'm': 1,\n",
      " 'n': 4,\n",
      " 'o': 6,\n",
      " 'r': 5,\n",
      " 's': 1,\n",
      " 't': 4,\n",
      " 'u': 2,\n",
      " 'v': 1,\n",
      " 'y': 2}\n"
     ]
    }
   ],
   "source": [
    "def word_freq(text):\n",
    "    \"\"\" No use of NLTK yet\n",
    "       Function to create a dictionary of word frequencies of the text\n",
    "       - key is the word\n",
    "       - value is the frequency (count) of the word in the text\n",
    "    \"\"\"\n",
    "    dFreq={}\n",
    "    for word in text:\n",
    "        if word in dFreq:\n",
    "            dFreq[word] += 1\n",
    "        else:\n",
    "            dFreq[word]=1\n",
    "    return dFreq\n",
    "\n",
    "pprint.pprint(word_freq(s))"
   ]
  },
  {
   "cell_type": "code",
   "execution_count": 4,
   "id": "82e6be83-dcea-4dd9-8c9b-e017b2e1c99e",
   "metadata": {},
   "outputs": [
    {
     "name": "stdout",
     "output_type": "stream",
     "text": [
      "{'Arthur': 1,\n",
      " 'At': 1,\n",
      " 'Thursday': 1,\n",
      " \"didn't\": 1,\n",
      " 'eight': 1,\n",
      " 'feel': 1,\n",
      " 'good.': 1,\n",
      " 'morning': 1,\n",
      " \"o'clock\": 1,\n",
      " 'on': 1,\n",
      " 'very': 1}\n"
     ]
    }
   ],
   "source": [
    "def word_freq(text):\n",
    "    dFreq={}\n",
    "    for word in text.split():   #this is the fix from previous version\n",
    "        if word in dFreq:\n",
    "            dFreq[word] += 1\n",
    "        else:\n",
    "            dFreq[word]=1\n",
    "    return dFreq\n",
    "    \n",
    "pprint.pprint(word_freq(s))"
   ]
  },
  {
   "cell_type": "code",
   "execution_count": 5,
   "id": "faf93823-6b7c-429c-a172-4e68f3b6d63e",
   "metadata": {},
   "outputs": [
    {
     "name": "stdout",
     "output_type": "stream",
     "text": [
      "{'Arthur': 1,\n",
      " 'At': 2,\n",
      " 'Thursday': 1,\n",
      " 'better.': 1,\n",
      " \"didn't\": 1,\n",
      " 'eight': 1,\n",
      " 'feel': 2,\n",
      " 'good.': 1,\n",
      " 'he': 1,\n",
      " 'morning': 1,\n",
      " 'nine': 1,\n",
      " \"o'clock\": 2,\n",
      " 'on': 1,\n",
      " 'strted': 1,\n",
      " 'to': 1,\n",
      " 'very': 1}\n"
     ]
    }
   ],
   "source": [
    "s = \"\"\"At eight o'clock on Thursday morning Arthur didn't feel very good.  At nine o'clock he strted to feel better.\"\"\"\n",
    "def word_freq(text):\n",
    "    dFreq={}\n",
    "    for word in text.split():\n",
    "        if word in dFreq:\n",
    "            dFreq[word] += 1\n",
    "        else:\n",
    "            dFreq[word]=1\n",
    "    return dFreq\n",
    "pprint.pprint(word_freq(s))  "
   ]
  },
  {
   "cell_type": "markdown",
   "id": "8e58407e-6720-42d8-949a-f922589bfdae",
   "metadata": {},
   "source": [
    "<h1>Activity 2 - Web Scraping</h1>"
   ]
  },
  {
   "cell_type": "code",
   "execution_count": 7,
   "id": "c60aaced-5077-4fdf-b9b6-c7bda0fcd7e3",
   "metadata": {
    "scrolled": true
   },
   "outputs": [
    {
     "name": "stdout",
     "output_type": "stream",
     "text": [
      "b'<!doctype html><html itemscope=\"\" itemtype=\"http://schema.org/WebPage\" lang=\"en\"><head><meta content=\"Search the world\\'s information, including webpages, images, videos and more. Google has many special features to help you find exactly what you\\'re looking for.\" name=\"description\"><meta content=\"noodp, \" name=\"robots\"><meta content=\"text/html; charset=UTF-8\" http-equiv=\"Content-Type\"><meta content=\"/images/branding/googleg/1x/googleg_standard_color_128dp.png\" itemprop=\"image\"><title>Google</title><script nonce=\"_onlNetKnQN_ckCacsk9cw\">(function(){var _g={kEI:\\'Qg40Z5PGBJqpxc8Pz-fC8QU\\',kEXPI:\\'0,3700322,627,122,313,538661,2872,2891,43028,30022,16105,334635,2006,8155,8860,14491,22435,9779,62657,36747,3801,2412,33249,15816,1804,7734,18098,9436,11814,1632,13495,15784,15664,11419,14047734,4,203,19,5,11,26,1,6,1,10,1,6,5,2,1,6,1,51,1,5,7439204,16496229,4043709,16673,2169858,23029351,6870,2,1291,4636,16436,84045,16826,5796,885,14280,8181,5934,43496,14125,4886,2657,3437,3319,23879,9138,4600,328,4456,1769,6760,16647,6,10211,687,6591,3,13309,9951,1134,212,5402,8301,8210,2560,726,4134,8139,1,6242,1525,1905,10104,1,3,2460,797,15071,2,1797,10666,1828,16,2301,832,4558,8,3249,200,4,393,1771,31,1033,281,2000,3,2,5777,5398,41,2950,336,2,7765,829,1757,1,4952,587,1927,1,3,636,1,33,2707,300,265,3,199,988,396,46,1,26,6120,1438,1301,3856,3665,702,2,874,268,1904,3,870,1339,279,257,1114,2035,192,895,3,7,1683,37,260,737,744,7,452,62,74,1680,1330,525,1650,1778,814,1,663,2517,301,314,4,2,824,1255,2,1239,471,2,551,1774,114,7,4,383,776,624,792,2,1066,330,42,513,96,33,586,373,60,949,110,536,93,38,154,1243,803,932,1970,224,602,938,372,318,2,432,918,465,762,2,186,725,190,90,114,569,104,52,31,2,92,62,132,408,701,1246,675,7,14,403,119,432,939,46,118,1060,137,3,3,174,507,611,112,247,1660,228,807,97,672,3,268,136,112,884,2,6,1,548,1,124,521,1,318,1,510,10,970,310,2,6,4,49,126,521,231,770,18,7,1,21382815,20198,3,9065,5473,2459,18,218,1786,1480,866,1779,4182,469,500,6,217\\',kBL:\\'kl_F\\',kOPI:89978449};(function(){var a;((a=window.google)==null?0:a.stvsc)?google.kEI=_g.kEI:window.google=_g;}).call(this);})();(function(){google.sn=\\'webhp\\';google.kHL=\\'en\\';})();(function(){\\nvar h=this||self;function l(){return window.google!==void 0&&window.google.kOPI!==void 0&&window.google.kOPI!==0?window.google.kOPI:null};var m,n=[];function p(a){for(var b;a&&(!a.getAttribute||!(b=a.getAttribute(\"eid\")));)a=a.parentNode;return b||m}function q(a){for(var b=null;a&&(!a.getAttribute||!(b=a.getAttribute(\"leid\")));)a=a.parentNode;return b}function r(a){/^http:/i.test(a)&&window.location.protocol===\"https:\"&&(google.ml&&google.ml(Error(\"a\"),!1,{src:a,glmm:1}),a=\"\");return a}\\nfunction t(a,b,c,d,k){var e=\"\";b.search(\"&ei=\")===-1&&(e=\"&ei=\"+p(d),b.search(\"&lei=\")===-1&&(d=q(d))&&(e+=\"&lei=\"+d));d=\"\";var g=b.search(\"&cshid=\")===-1&&a!==\"slh\",f=[];f.push([\"zx\",Date.now().toString()]);h._cshid&&g&&f.push([\"cshid\",h._cshid]);c=c();c!=null&&f.push([\"opi\",c.toString()]);for(c=0;c<f.length;c++){if(c===0||c>0)d+=\"&\";d+=f[c][0]+\"=\"+f[c][1]}return\"/\"+(k||\"gen_204\")+\"?atyp=i&ct=\"+String(a)+\"&cad=\"+(b+e+d)};m=google.kEI;google.getEI=p;google.getLEI=q;google.ml=function(){return null};google.log=function(a,b,c,d,k,e){e=e===void 0?l:e;c||(c=t(a,b,e,d,k));if(c=r(c)){a=new Image;var g=n.length;n[g]=a;a.onerror=a.onload=a.onabort=function(){delete n[g]};a.src=c}};google.logUrl=function(a,b){b=b===void 0?l:b;return t(\"\",a,b)};}).call(this);(function(){google.y={};google.sy=[];var d;(d=google).x||(d.x=function(a,b){if(a)var c=a.id;else{do c=Math.random();while(google.y[c])}google.y[c]=[a,b];return!1});var e;(e=google).sx||(e.sx=function(a){google.sy.push(a)});google.lm=[];var f;(f=google).plm||(f.plm=function(a){google.lm.push.apply(google.lm,a)});google.lq=[];var g;(g=google).load||(g.load=function(a,b,c){google.lq.push([[a],b,c])});var h;(h=google).loadAll||(h.loadAll=function(a,b){google.lq.push([a,b])});google.bx=!1;var k;(k=google).lx||(k.lx=function(){});var l=[],m;(m=google).fce||(m.fce=function(a,b,c,n){l.push([a,b,c,n])});google.qce=l;}).call(this);google.f={};(function(){\\ndocument.documentElement.addEventListener(\"submit\",function(b){var a;if(a=b.target){var c=a.getAttribute(\"data-submitfalse\");a=c===\"1\"||c===\"q\"&&!a.elements.q.value?!0:!1}else a=!1;a&&(b.preventDefault(),b.stopPropagation())},!0);document.documentElement.addEventListener(\"click\",function(b){var a;a:{for(a=b.target;a&&a!==document.documentElement;a=a.parentElement)if(a.tagName===\"A\"){a=a.getAttribute(\"data-nohref\")===\"1\";break a}a=!1}a&&b.preventDefault()},!0);}).call(this);</script><style>#gbar,#guser{font-size:13px;padding-top:1px !important;}#gbar{height:22px}#guser{padding-bottom:7px !important;text-align:right}.gbh,.gbd{border-top:1px solid #c9d7f1;font-size:1px}.gbh{height:0;position:absolute;top:24px;width:100%}@media all{.gb1{height:22px;margin-right:.5em;vertical-align:top}#gbar{float:left}}a.gb1,a.gb4{text-decoration:underline !important}a.gb1,a.gb4{color:#00c !important}.gbi .gb4{color:#dd8e27 !important}.gbf .gb4{color:#900 !important}\\n</style><style>body,td,a,p,.h{font-family:arial,sans-serif}body{margin:0;overflow-y:scroll}#gog{padding:3px 8px 0}td{line-height:.8em}.gac_m td{line-height:17px}form{margin-bottom:20px}.h{color:#1967d2}em{font-weight:bold;font-style:normal}.lst{height:25px;width:496px}.gsfi,.lst{font:18px arial,sans-serif}.gsfs{font:17px arial,sans-serif}.ds{display:inline-box;display:inline-block;margin:3px 0 4px;margin-left:4px}input{font-family:inherit}body{background:#fff;color:#000}a{color:#681da8;text-decoration:none}a:hover,a:active{text-decoration:underline}.fl a{color:#1967d2}a:visited{color:#681da8}.sblc{padding-top:5px}.sblc a{display:block;margin:2px 0;margin-left:13px;font-size:11px}.lsbb{background:#f8f9fa;border:solid 1px;border-color:#dadce0 #70757a #70757a #dadce0;height:30px}.lsbb{display:block}#WqQANb a{display:inline-block;margin:0 12px}.lsb{background:url(/images/nav_logo229.png) 0 -261px repeat-x;color:#000;border:none;cursor:pointer;height:30px;margin:0;outline:0;font:15px arial,sans-serif;vertical-align:top}.lsb:active{background:#dadce0}.lst:focus{outline:none}</style><script nonce=\"_onlNetKnQN_ckCacsk9cw\">(function(){window.google.erd={jsr:1,bv:2114,de:true,dpf:\\'Ou0NCvy0JJz2Zt2_mGo2TfGF5nVfk2qqwEYGnwcCzmM\\'};\\nvar g=this||self;var k,l=(k=g.mei)!=null?k:1,n,p=(n=g.sdo)!=null?n:!0,q=0,r,t=google.erd,v=t.jsr;google.ml=function(a,b,d,m,e){e=e===void 0?2:e;b&&(r=a&&a.message);d===void 0&&(d={});d.cad=\"ple_\"+google.ple+\".aple_\"+google.aple;if(google.dl)return google.dl(a,e,d,!0),null;b=d;if(v<0){window.console&&console.error(a,b);if(v===-2)throw a;b=!1}else b=!a||!a.message||a.message===\"Error loading script\"||q>=l&&!m?!1:!0;if(!b)return null;q++;d=d||{};b=encodeURIComponent;var c=\"/gen_204?atyp=i&ei=\"+b(google.kEI);google.kEXPI&&(c+=\"&jexpid=\"+b(google.kEXPI));c+=\"&srcpg=\"+b(google.sn)+\"&jsr=\"+b(t.jsr)+\\n\"&bver=\"+b(t.bv);t.dpf&&(c+=\"&dpf=\"+b(t.dpf));var f=a.lineNumber;f!==void 0&&(c+=\"&line=\"+f);var h=a.fileName;h&&(h.indexOf(\"-extension:/\")>0&&(e=3),c+=\"&script=\"+b(h),f&&h===window.location.href&&(f=document.documentElement.outerHTML.split(\"\\\\n\")[f],c+=\"&cad=\"+b(f?f.substring(0,300):\"No script found.\")));google.ple&&google.ple===1&&(e=2);c+=\"&jsel=\"+e;for(var u in d)c+=\"&\",c+=b(u),c+=\"=\",c+=b(d[u]);c=c+\"&emsg=\"+b(a.name+\": \"+a.message);c=c+\"&jsst=\"+b(a.stack||\"N/A\");c.length>=12288&&(c=c.substr(0,12288));a=c;m||google.log(0,\"\",a);return a};window.onerror=function(a,b,d,m,e){r!==a&&(a=e instanceof Error?e:Error(a),d===void 0||\"lineNumber\"in a||(a.lineNumber=d),b===void 0||\"fileName\"in a||(a.fileName=b),google.ml(a,!1,void 0,!1,a.name===\"SyntaxError\"||a.message.substring(0,11)===\"SyntaxError\"||a.message.indexOf(\"Script error\")!==-1?3:0));r=null;p&&q>=l&&(window.onerror=null)};})();</script></head><body bgcolor=\"#fff\"><script nonce=\"_onlNetKnQN_ckCacsk9cw\">(function(){var src=\\'/images/nav_logo229.png\\';var iesg=false;document.body.onload = function(){window.n && window.n();if (document.images){new Image().src=src;}\\nif (!iesg){document.f&&document.f.q.focus();document.gbqf&&document.gbqf.q.focus();}\\n}\\n})();</script><div id=\"mngb\"><div id=gbar><nobr><b class=gb1>Search</b> <a class=gb1 href=\"https://www.google.com/imghp?hl=en&tab=wi\">Images</a> <a class=gb1 href=\"https://maps.google.com/maps?hl=en&tab=wl\">Maps</a> <a class=gb1 href=\"https://play.google.com/?hl=en&tab=w8\">Play</a> <a class=gb1 href=\"https://www.youtube.com/?tab=w1\">YouTube</a> <a class=gb1 href=\"https://news.google.com/?tab=wn\">News</a> <a class=gb1 href=\"https://mail.google.com/mail/?tab=wm\">Gmail</a> <a class=gb1 href=\"https://drive.google.com/?tab=wo\">Drive</a> <a class=gb1 style=\"text-decoration:none\" href=\"https://www.google.com/intl/en/about/products?tab=wh\"><u>More</u> &raquo;</a></nobr></div><div id=guser width=100%><nobr><span id=gbn class=gbi></span><span id=gbf class=gbf></span><span id=gbe></span><a href=\"http://www.google.com/history/optout?hl=en\" class=gb4>Web History</a> | <a  href=\"/preferences?hl=en\" class=gb4>Settings</a> | <a target=_top id=gb_70 href=\"https://accounts.google.com/ServiceLogin?hl=en&passive=true&continue=https://www.google.com/&ec=GAZAAQ\" class=gb4>Sign in</a></nobr></div><div class=gbh style=left:0></div><div class=gbh style=right:0></div></div><center><br clear=\"all\" id=\"lgpd\"><div id=\"XjhHGf\"><img alt=\"Google\" height=\"92\" src=\"/images/branding/googlelogo/1x/googlelogo_white_background_color_272x92dp.png\" style=\"padding:28px 0 14px\" width=\"272\" id=\"hplogo\"><br><br></div><form action=\"/search\" name=\"f\"><table cellpadding=\"0\" cellspacing=\"0\"><tr valign=\"top\"><td width=\"25%\">&nbsp;</td><td align=\"center\" nowrap=\"\"><input name=\"ie\" value=\"ISO-8859-1\" type=\"hidden\"><input value=\"en\" name=\"hl\" type=\"hidden\"><input name=\"source\" type=\"hidden\" value=\"hp\"><input name=\"biw\" type=\"hidden\"><input name=\"bih\" type=\"hidden\"><div class=\"ds\" style=\"height:32px;margin:4px 0\"><input class=\"lst\" style=\"margin:0;padding:5px 8px 0 6px;vertical-align:top;color:#000\" autocomplete=\"off\" value=\"\" title=\"Google Search\" maxlength=\"2048\" name=\"q\" size=\"57\"></div><br style=\"line-height:0\"><span class=\"ds\"><span class=\"lsbb\"><input class=\"lsb\" value=\"Google Search\" name=\"btnG\" type=\"submit\"></span></span><span class=\"ds\"><span class=\"lsbb\"><input class=\"lsb\" id=\"tsuid_1\" value=\"I\\'m Feeling Lucky\" name=\"btnI\" type=\"submit\"><script nonce=\"_onlNetKnQN_ckCacsk9cw\">(function(){var id=\\'tsuid_1\\';document.getElementById(id).onclick = function(){if (this.form.q.value){this.checked = 1;if (this.form.iflsig)this.form.iflsig.disabled = false;}\\nelse top.location=\\'/doodles/\\';};})();</script><input value=\"AL9hbdgAAAAAZzQcUv0jAmWjhDW7BFHgLzmPXU2B8oUS\" name=\"iflsig\" type=\"hidden\"></span></span></td><td class=\"fl sblc\" align=\"left\" nowrap=\"\" width=\"25%\"><a href=\"/advanced_search?hl=en&amp;authuser=0\">Advanced search</a></td></tr></table><input id=\"gbv\" name=\"gbv\" type=\"hidden\" value=\"1\"><script nonce=\"_onlNetKnQN_ckCacsk9cw\">(function(){var a,b=\"1\";if(document&&document.getElementById)if(typeof XMLHttpRequest!=\"undefined\")b=\"2\";else if(typeof ActiveXObject!=\"undefined\"){var c,d,e=[\"MSXML2.XMLHTTP.6.0\",\"MSXML2.XMLHTTP.3.0\",\"MSXML2.XMLHTTP\",\"Microsoft.XMLHTTP\"];for(c=0;d=e[c++];)try{new ActiveXObject(d),b=\"2\"}catch(h){}}a=b;if(a==\"2\"&&location.search.indexOf(\"&gbv=2\")==-1){var f=google.gbvu,g=document.getElementById(\"gbv\");g&&(g.value=a);f&&window.setTimeout(function(){location.href=f},0)};}).call(this);</script></form><div style=\"font-size:83%;min-height:3.5em\"><br></div><span id=\"footer\"><div style=\"font-size:10pt\"><div style=\"margin:19px auto;text-align:center\" id=\"WqQANb\"><a href=\"/intl/en/ads/\">Advertising</a><a href=\"/services/\">Business Solutions</a><a href=\"/intl/en/about.html\">About Google</a></div></div><p style=\"font-size:8pt;color:#70757a\">&copy; 2024 - <a href=\"/intl/en/policies/privacy/\">Privacy</a> - <a href=\"/intl/en/policies/terms/\">Terms</a></p></span></center><script nonce=\"_onlNetKnQN_ckCacsk9cw\">(function(){window.google.cdo={height:757,width:1440};(function(){var a=window.innerWidth,b=window.innerHeight;if(!a||!b){var c=window.document,d=c.compatMode==\"CSS1Compat\"?c.documentElement:c.body;a=d.clientWidth;b=d.clientHeight}\\nif(a&&b&&(a!=google.cdo.width||b!=google.cdo.height)){var e=google,f=e.log,g=\"/client_204?&atyp=i&biw=\"+a+\"&bih=\"+b+\"&ei=\"+google.kEI,h=\"\",k=[],l=window.google!==void 0&&window.google.kOPI!==void 0&&window.google.kOPI!==0?window.google.kOPI:null;l!=null&&k.push([\"opi\",l.toString()]);for(var m=0;m<k.length;m++){if(m===0||m>0)h+=\"&\";h+=k[m][0]+\"=\"+k[m][1]}f.call(e,\"\",\"\",g+h)};}).call(this);})();</script>  <script nonce=\"_onlNetKnQN_ckCacsk9cw\">(function(){google.xjs={basecomb:\\'/xjs/_/js/k\\\\x3dxjs.hp.en.6qf4OQbT6m4.es5.O/ck\\\\x3dxjs.hp.gM23RGVDjCM.L.X.O/am\\\\x3dAgAAAAAQAAAAAAAAAAAAAAAAAAAAAAAAAAAAAAAQBAAAAAAAAAAAGAAAhgEAACAAQIAAAAAAAAAAAAAAAAAQAQAoAAgTAACA-I4AQAAsAgDACw/d\\\\x3d1/ed\\\\x3d1/dg\\\\x3d0/ujg\\\\x3d1/rs\\\\x3dACT90oHXaafGVz6MWX_yzvxbJyDEHZCrDA\\',basecss:\\'/xjs/_/ss/k\\\\x3dxjs.hp.gM23RGVDjCM.L.X.O/am\\\\x3dAgAAAAAQAAAAAAAAAAAAAAAAAAAAAAAAAAAAAAAABAAAAAAAAAAAAAAABgAAACAAQIAAAAAAAAAAAAAAAAAQAQAoAAgT/rs\\\\x3dACT90oEXb1QSahSmsgZpgcGLlJQ4bbXelA\\',basejs:\\'/xjs/_/js/k\\\\x3dxjs.hp.en.6qf4OQbT6m4.es5.O/am\\\\x3dAAAAAAAAAAAAAAAAAAAAAAAAAAAAAAAAAAAAAAAQAAAAAAAAAAAAGAAAgAEAAAAAAAAAAAAAAAAAAAAAAAAAAAAAAAAAAACA-I4AQAAsAgDACw/dg\\\\x3d0/rs\\\\x3dACT90oGBA1HY7Cl-XNyR2YFcrO2VP_UAwA\\',excm:[]};})();</script>       <script nonce=\"_onlNetKnQN_ckCacsk9cw\">(function(){var u=\\'/xjs/_/js/k\\\\x3dxjs.hp.en.6qf4OQbT6m4.es5.O/am\\\\x3dAAAAAAAAAAAAAAAAAAAAAAAAAAAAAAAAAAAAAAAQAAAAAAAAAAAAGAAAgAEAAAAAAAAAAAAAAAAAAAAAAAAAAAAAAAAAAACA-I4AQAAsAgDACw/d\\\\x3d1/ed\\\\x3d1/dg\\\\x3d3/rs\\\\x3dACT90oGBA1HY7Cl-XNyR2YFcrO2VP_UAwA/m\\\\x3dsb_he,d\\';var st=1;var amd=1000;var mmd=0;var pod=true;var e=typeof Object.defineProperties==\"function\"?Object.defineProperty:function(a,b,c){if(a==Array.prototype||a==Object.prototype)return a;a[b]=c.value;return a},f=function(a){a=[\"object\"==typeof globalThis&&globalThis,a,\"object\"==typeof window&&window,\"object\"==typeof self&&self,\"object\"==typeof global&&global];for(var b=0;b<a.length;++b){var c=a[b];if(c&&c.Math==Math)return c}throw Error(\"a\");},h=f(this),k=function(a,b){if(b)a:{var c=h;a=a.split(\".\");for(var d=0;d<a.length-1;d++){var g=a[d];if(!(g in\\nc))break a;c=c[g]}a=a[a.length-1];d=c[a];b=b(d);b!=d&&b!=null&&e(c,a,{configurable:!0,writable:!0,value:b})}};k(\"globalThis\",function(a){return a||h});\\nvar l=this||self;function m(){var a,b,c;if(b=a=(b=window.google)==null?void 0:(c=b.ia)==null?void 0:c.r.B2Jtyd)b=a.m,b=b===1||b===5;return b&&a.cbfd!=null&&a.cbvi!=null?a:void 0};function n(){var a=[u];if(!google.dp){for(var b=0;b<a.length;b++){var c=a[b],d=document.createElement(\"link\");d.setAttribute(\"as\",\"script\");d.setAttribute(\"href\",c);d.setAttribute(\"rel\",\"preload\");document.body.appendChild(d)}google.dp=!0}};\\nvar p=globalThis.trustedTypes,q;function r(){var a=null;if(!p)return a;try{var b=function(c){return c};a=p.createPolicy(\"goog#html\",{createHTML:b,createScript:b,createScriptURL:b})}catch(c){}return a};var t=function(a){this.g=a};t.prototype.toString=function(){return this.g+\"\"};function w(a,b){if(b instanceof t)b=b.g;else throw Error(\"b\");a.src=b;var c;b=a.ownerDocument&&a.ownerDocument.defaultView||window;b=b===void 0?document:b;var d;b=(d=(c=\"document\"in b?b.document:b).querySelector)==null?void 0:d.call(c,\"script[nonce]\");(c=b==null?\"\":b.nonce||b.getAttribute(\"nonce\")||\"\")&&a.setAttribute(\"nonce\",c)};var x=function(){var a=document;var b=\"SCRIPT\";a.contentType===\"application/xhtml+xml\"&&(b=b.toLowerCase());return a.createElement(b)};function y(a){a=a===null?\"null\":a===void 0?\"undefined\":a;q===void 0&&(q=r());var b=q;return new t(b?b.createScriptURL(a):a)};google.ps===void 0&&(google.ps=[]);function z(){var a=u,b=function(){};google.lx=google.stvsc?b:function(){A(a);google.lx=b};google.bx||google.lx()}function B(a,b){b&&w(a,y(b));var c=a.onload;a.onload=function(d){c&&c(d);google.ps=google.ps.filter(function(g){return a!==g})};google.ps.push(a);document.body.appendChild(a)}google.as=B;function A(a){google.timers&&google.timers.load&&google.tick&&google.tick(\"load\",\"xjsls\");var b=x();b.onerror=function(){google.ple=1};b.onload=function(){google.ple=0};google.xjsus=void 0;B(b,a);google.aple=-1;google.dp=!0};function C(a){var b=a.getAttribute(\"jscontroller\");return(b===\"UBXHI\"||b===\"R3fhkb\"||b===\"TSZEqd\")&&a.hasAttribute(\"data-src\")}function D(){for(var a=document.getElementsByTagName(\"img\"),b=0,c=a.length;b<c;b++){var d=a[b];if(d.hasAttribute(\"data-lzy_\")&&Number(d.getAttribute(\"data-atf\"))&1&&!C(d))return!0}return!1}for(var E=document.getElementsByTagName(\"img\"),F=0,G=E.length;F<G;++F){var H=E[F];Number(H.getAttribute(\"data-atf\"))&1&&C(H)&&(H.src=H.getAttribute(\"data-src\"))};var I,J,K,L,M,N;function O(){google.xjsu=u;l._F_jsUrl=u;M=function(){z()};I=!1;J=(st===1||st===3)&&!!google.caft&&!D();K=m();L=(st===2||st===3)&&!!K&&!D();N=pod}function P(){I||J||L||(M(),I=!0)}setTimeout(function(){google&&google.tick&&google.timers&&google.timers.load&&google.tick(\"load\",\"xjspls\");O();if(J||L){if(J){var a=function(){J=!1;P()};google.caft(a);window.setTimeout(a,amd)}L&&(a=function(){L=!1;P()},K.cbvi.push(a),window.setTimeout(a,mmd));N&&(I||n())}else M()},0);})();window._ = window._ || {};window._DumpException = _._DumpException = function(e){throw e;};window._s = window._s || {};_s._DumpException = _._DumpException;window._qs = window._qs || {};_qs._DumpException = _._DumpException;(function(){var t=[2,16384,0,0,0,0,0,75497472,4,67108864,102400,20996482,41984,513,2464,0,17825792,673226752,304,2342432,36446272,3080192];window._F_toggles = window._xjs_toggles = t;})();window._F_installCss = window._F_installCss || function(css){};(function(){google.jl={bfl:0,dw:false,ine:false,ubm:false,uwp:true,vs:false};})();(function(){var pmc=\\'{\\\\x22d\\\\x22:{},\\\\x22sb_he\\\\x22:{\\\\x22agen\\\\x22:false,\\\\x22cgen\\\\x22:false,\\\\x22client\\\\x22:\\\\x22heirloom-hp\\\\x22,\\\\x22dh\\\\x22:true,\\\\x22ds\\\\x22:\\\\x22\\\\x22,\\\\x22fl\\\\x22:true,\\\\x22host\\\\x22:\\\\x22google.com\\\\x22,\\\\x22jsonp\\\\x22:true,\\\\x22msgs\\\\x22:{\\\\x22cibl\\\\x22:\\\\x22Clear Search\\\\x22,\\\\x22dym\\\\x22:\\\\x22Did you mean:\\\\x22,\\\\x22lcky\\\\x22:\\\\x22I\\\\\\\\u0026#39;m Feeling Lucky\\\\x22,\\\\x22lml\\\\x22:\\\\x22Learn more\\\\x22,\\\\x22psrc\\\\x22:\\\\x22This search was removed from your \\\\\\\\u003Ca href\\\\x3d\\\\\\\\\\\\x22/history\\\\\\\\\\\\x22\\\\\\\\u003EWeb History\\\\\\\\u003C/a\\\\\\\\u003E\\\\x22,\\\\x22psrl\\\\x22:\\\\x22Remove\\\\x22,\\\\x22sbit\\\\x22:\\\\x22Search by image\\\\x22,\\\\x22srch\\\\x22:\\\\x22Google Search\\\\x22},\\\\x22ovr\\\\x22:{},\\\\x22pq\\\\x22:\\\\x22\\\\x22,\\\\x22rfs\\\\x22:[],\\\\x22stok\\\\x22:\\\\x22js7mYVNF3_SX7lO4ND5Wi2gJ76I\\\\x22}}\\';google.pmc=JSON.parse(pmc);})();(function(){var b=function(a){var c=0;return function(){return c<a.length?{done:!1,value:a[c++]}:{done:!0}}};\\nvar e=this||self;var g,h;a:{for(var k=[\"CLOSURE_FLAGS\"],l=e,n=0;n<k.length;n++)if(l=l[k[n]],l==null){h=null;break a}h=l}var p=h&&h[610401301];g=p!=null?p:!1;var q,r=e.navigator;q=r?r.userAgentData||null:null;function t(a){return g?q?q.brands.some(function(c){return(c=c.brand)&&c.indexOf(a)!=-1}):!1:!1}function u(a){var c;a:{if(c=e.navigator)if(c=c.userAgent)break a;c=\"\"}return c.indexOf(a)!=-1};function v(){return g?!!q&&q.brands.length>0:!1}function w(){return u(\"Safari\")&&!(x()||(v()?0:u(\"Coast\"))||(v()?0:u(\"Opera\"))||(v()?0:u(\"Edge\"))||(v()?t(\"Microsoft Edge\"):u(\"Edg/\"))||(v()?t(\"Opera\"):u(\"OPR\"))||u(\"Firefox\")||u(\"FxiOS\")||u(\"Silk\")||u(\"Android\"))}function x(){return v()?t(\"Chromium\"):(u(\"Chrome\")||u(\"CriOS\"))&&!(v()?0:u(\"Edge\"))||u(\"Silk\")}function y(){return u(\"Android\")&&!(x()||u(\"Firefox\")||u(\"FxiOS\")||(v()?0:u(\"Opera\"))||u(\"Silk\"))};var z=v()?!1:u(\"Trident\")||u(\"MSIE\");y();x();w();var A=!z&&!w(),D=function(a){if(/-[a-z]/.test(\"ved\"))return null;if(A&&a.dataset){if(y()&&!(\"ved\"in a.dataset))return null;a=a.dataset.ved;return a===void 0?null:a}return a.getAttribute(\"data-\"+\"ved\".replace(/([A-Z])/g,\"-$1\").toLowerCase())};var E=[],F=null;function G(a){a=a.target;var c=performance.now(),f=[],H=f.concat,d=E;if(!(d instanceof Array)){var m=typeof Symbol!=\"undefined\"&&Symbol.iterator&&d[Symbol.iterator];if(m)d=m.call(d);else if(typeof d.length==\"number\")d={next:b(d)};else throw Error(\"b`\"+String(d));for(var B=[];!(m=d.next()).done;)B.push(m.value);d=B}E=H.call(f,d,[c]);if(a&&a instanceof HTMLElement)if(a===F){if(c=E.length>=4)c=(E[E.length-1]-E[E.length-4])/1E3<5;if(c){c=google.getEI(a);a.hasAttribute(\"data-ved\")?f=a?D(a)||\"\":\"\":f=(f=\\na.closest(\"[data-ved]\"))?D(f)||\"\":\"\";f=f||\"\";if(a.hasAttribute(\"jsname\"))a=a.getAttribute(\"jsname\");else{var C;a=(C=a.closest(\"[jsname]\"))==null?void 0:C.getAttribute(\"jsname\")}google.log(\"rcm\",\"&ei=\"+c+\"&tgtved=\"+f+\"&jsname=\"+(a||\"\"))}}else F=a,E=[c]}window.document.addEventListener(\"DOMContentLoaded\",function(){document.body.addEventListener(\"click\",G)});}).call(this);</script></body></html>'\n"
     ]
    }
   ],
   "source": [
    "import urllib.request as req\n",
    "\n",
    "#https://www.python.org\n",
    "requests = req.Request('https://www.google.com/')\n",
    "requests.add_header('Accept-Encoding', 'identity')\n",
    "resp=req.urlopen(requests)\n",
    "\n",
    "text=resp.read()\n",
    "print(text)\n"
   ]
  },
  {
   "cell_type": "code",
   "execution_count": 8,
   "id": "47137336-f143-4864-aed0-60bfe75ab730",
   "metadata": {
    "scrolled": true
   },
   "outputs": [
    {
     "name": "stdout",
     "output_type": "stream",
     "text": [
      "[b'<!doctype',\n",
      " b'html><html',\n",
      " b'itemscope=\"\"',\n",
      " b'itemtype=\"http://schema.org/WebPage\"',\n",
      " b'lang=\"en\"><head><meta',\n",
      " b'content=\"Search',\n",
      " b'the',\n",
      " b\"world's\",\n",
      " b'information,',\n",
      " b'including',\n",
      " b'webpages,',\n",
      " b'images,',\n",
      " b'videos',\n",
      " b'and',\n",
      " b'more.',\n",
      " b'Google',\n",
      " b'has',\n",
      " b'many',\n",
      " b'special',\n",
      " b'features',\n",
      " b'to',\n",
      " b'help',\n",
      " b'you',\n",
      " b'find',\n",
      " b'exactly',\n",
      " b'what',\n",
      " b\"you're\",\n",
      " b'looking',\n",
      " b'for.\"',\n",
      " b'name=\"description\"><meta',\n",
      " b'content=\"noodp,',\n",
      " b'\"',\n",
      " b'name=\"robots\"><meta',\n",
      " b'content=\"text/html;',\n",
      " b'charset=UTF-8\"',\n",
      " b'http-equiv=\"Content-Type\"><meta',\n",
      " b'content=\"/images/branding/googleg/1x/googleg_standard_color_128dp.png\"',\n",
      " b'itemprop=\"image\"><title>Google</title><script',\n",
      " b'nonce=\"_onlNetKnQN_ckCacsk9cw\">(function(){var',\n",
      " b\"_g={kEI:'Qg40Z5PGBJqpxc8Pz-fC8QU',kEXPI:'0,3700322,627,122,313,538661,2872,2\"\n",
      " b'891,43028,30022,16105,334635,2006,8155,8860,14491,22435,9779,62657,36747,380'\n",
      " b'1,2412,33249,15816,1804,7734,18098,9436,11814,1632,13495,15784,15664,11419,1'\n",
      " b'4047734,4,203,19,5,11,26,1,6,1,10,1,6,5,2,1,6,1,51,1,5,7439204,16496229,4043'\n",
      " b'709,16673,2169858,23029351,6870,2,1291,4636,16436,84045,16826,5796,885,14280'\n",
      " b',8181,5934,43496,14125,4886,2657,3437,3319,23879,9138,4600,328,4456,1769,676'\n",
      " b'0,16647,6,10211,687,6591,3,13309,9951,1134,212,5402,8301,8210,2560,726,4134,'\n",
      " b'8139,1,6242,1525,1905,10104,1,3,2460,797,15071,2,1797,10666,1828,16,2301,832'\n",
      " b',4558,8,3249,200,4,393,1771,31,1033,281,2000,3,2,5777,5398,41,2950,336,2,776'\n",
      " b'5,829,1757,1,4952,587,1927,1,3,636,1,33,2707,300,265,3,199,988,396,46,1,26,6'\n",
      " b'120,1438,1301,3856,3665,702,2,874,268,1904,3,870,1339,279,257,1114,2035,192,'\n",
      " b'895,3,7,1683,37,260,737,744,7,452,62,74,1680,1330,525,1650,1778,814,1,663,25'\n",
      " b'17,301,314,4,2,824,1255,2,1239,471,2,551,1774,114,7,4,383,776,624,792,2,1066'\n",
      " b',330,42,513,96,33,586,373,60,949,110,536,93,38,154,1243,803,932,1970,224,602'\n",
      " b',938,372,318,2,432,918,465,762,2,186,725,190,90,114,569,104,52,31,2,92,62,13'\n",
      " b'2,408,701,1246,675,7,14,403,119,432,939,46,118,1060,137,3,3,174,507,611,112,'\n",
      " b'247,1660,228,807,97,672,3,268,136,112,884,2,6,1,548,1,124,521,1,318,1,510,10'\n",
      " b',970,310,2,6,4,49,126,521,231,770,18,7,1,21382815,20198,3,9065,5473,2459,18,'\n",
      " b\"218,1786,1480,866,1779,4182,469,500,6,217',kBL:'kl_F',kOPI:89978449};(functi\"\n",
      " b'on(){var',\n",
      " b'a;((a=window.google)==null?0:a.stvsc)?google.kEI=_g.kEI:window.google=_g;}).'\n",
      " b\"call(this);})();(function(){google.sn='webhp';google.kHL='en';})();(function\"\n",
      " b'(){',\n",
      " b'var',\n",
      " b'h=this||self;function',\n",
      " b'l(){return',\n",
      " b'window.google!==void',\n",
      " b'0&&window.google.kOPI!==void',\n",
      " b'0&&window.google.kOPI!==0?window.google.kOPI:null};var',\n",
      " b'm,n=[];function',\n",
      " b'p(a){for(var',\n",
      " b'b;a&&(!a.getAttribute||!(b=a.getAttribute(\"eid\")));)a=a.parentNode;return',\n",
      " b'b||m}function',\n",
      " b'q(a){for(var',\n",
      " b'b=null;a&&(!a.getAttribute||!(b=a.getAttribute(\"leid\")));)a=a.parentNode;ret'\n",
      " b'urn',\n",
      " b'b}function',\n",
      " b'r(a){/^http:/i.test(a)&&window.location.protocol===\"https:\"&&(google.ml&&goo'\n",
      " b'gle.ml(Error(\"a\"),!1,{src:a,glmm:1}),a=\"\");return',\n",
      " b'a}',\n",
      " b'function',\n",
      " b't(a,b,c,d,k){var',\n",
      " b'e=\"\";b.search(\"&ei=\")===-1&&(e=\"&ei=\"+p(d),b.search(\"&lei=\")===-1&&(d=q(d))&'\n",
      " b'&(e+=\"&lei=\"+d));d=\"\";var',\n",
      " b'g=b.search(\"&cshid=\")===-1&&a!==\"slh\",f=[];f.push([\"zx\",Date.now().toString('\n",
      " b')]);h._cshid&&g&&f.push([\"cshid\",h._cshid]);c=c();c!=null&&f.push([\"opi\",c.t'\n",
      " b'oString()]);for(c=0;c<f.length;c++){if(c===0||c>0)d+=\"&\";d+=f[c][0]+\"=\"+f[c]'\n",
      " b'[1]}return\"/\"+(k||\"gen_204\")+\"?atyp=i&ct=\"+String(a)+\"&cad=\"+(b+e+d)};m=goog'\n",
      " b'le.kEI;google.getEI=p;google.getLEI=q;google.ml=function(){return',\n",
      " b'null};google.log=function(a,b,c,d,k,e){e=e===void',\n",
      " b'0?l:e;c||(c=t(a,b,e,d,k));if(c=r(c)){a=new',\n",
      " b'Image;var',\n",
      " b'g=n.length;n[g]=a;a.onerror=a.onload=a.onabort=function(){delete',\n",
      " b'n[g]};a.src=c}};google.logUrl=function(a,b){b=b===void',\n",
      " b'0?l:b;return',\n",
      " b't(\"\",a,b)};}).call(this);(function(){google.y={};google.sy=[];var',\n",
      " b'd;(d=google).x||(d.x=function(a,b){if(a)var',\n",
      " b'c=a.id;else{do',\n",
      " b'c=Math.random();while(google.y[c])}google.y[c]=[a,b];return!1});var',\n",
      " b'e;(e=google).sx||(e.sx=function(a){google.sy.push(a)});google.lm=[];var',\n",
      " b'f;(f=google).plm||(f.plm=function(a){google.lm.push.apply(google.lm,a)});goo'\n",
      " b'gle.lq=[];var',\n",
      " b'g;(g=google).load||(g.load=function(a,b,c){google.lq.push([[a],b,c])});var',\n",
      " b'h;(h=google).loadAll||(h.loadAll=function(a,b){google.lq.push([a,b])});googl'\n",
      " b'e.bx=!1;var',\n",
      " b'k;(k=google).lx||(k.lx=function(){});var',\n",
      " b'l=[],m;(m=google).fce||(m.fce=function(a,b,c,n){l.push([a,b,c,n])});google.q'\n",
      " b'ce=l;}).call(this);google.f={};(function(){',\n",
      " b'document.documentElement.addEventListener(\"submit\",function(b){var',\n",
      " b'a;if(a=b.target){var',\n",
      " b'c=a.getAttribute(\"data-submitfalse\");a=c===\"1\"||c===\"q\"&&!a.elements.q.value'\n",
      " b'?!0:!1}else',\n",
      " b'a=!1;a&&(b.preventDefault(),b.stopPropagation())},!0);document.documentEleme'\n",
      " b'nt.addEventListener(\"click\",function(b){var',\n",
      " b'a;a:{for(a=b.target;a&&a!==document.documentElement;a=a.parentElement)if(a.t'\n",
      " b'agName===\"A\"){a=a.getAttribute(\"data-nohref\")===\"1\";break',\n",
      " b'a}a=!1}a&&b.preventDefault()},!0);}).call(this);</script><style>#gbar,#guser'\n",
      " b'{font-size:13px;padding-top:1px',\n",
      " b'!important;}#gbar{height:22px}#guser{padding-bottom:7px',\n",
      " b'!important;text-align:right}.gbh,.gbd{border-top:1px',\n",
      " b'solid',\n",
      " b'#c9d7f1;font-size:1px}.gbh{height:0;position:absolute;top:24px;width:100%}@m'\n",
      " b'edia',\n",
      " b'all{.gb1{height:22px;margin-right:.5em;vertical-align:top}#gbar{float:left}}'\n",
      " b'a.gb1,a.gb4{text-decoration:underline',\n",
      " b'!important}a.gb1,a.gb4{color:#00c',\n",
      " b'!important}.gbi',\n",
      " b'.gb4{color:#dd8e27',\n",
      " b'!important}.gbf',\n",
      " b'.gb4{color:#900',\n",
      " b'!important}',\n",
      " b'</style><style>body,td,a,p,.h{font-family:arial,sans-serif}body{margin:0;ove'\n",
      " b'rflow-y:scroll}#gog{padding:3px',\n",
      " b'8px',\n",
      " b'0}td{line-height:.8em}.gac_m',\n",
      " b'td{line-height:17px}form{margin-bottom:20px}.h{color:#1967d2}em{font-weight:'\n",
      " b'bold;font-style:normal}.lst{height:25px;width:496px}.gsfi,.lst{font:18px',\n",
      " b'arial,sans-serif}.gsfs{font:17px',\n",
      " b'arial,sans-serif}.ds{display:inline-box;display:inline-block;margin:3px',\n",
      " b'0']\n"
     ]
    }
   ],
   "source": [
    "import pprint\n",
    "tokens_by_split=text.split()\n",
    "\n",
    "pprint.pprint(tokens_by_split[:100])"
   ]
  },
  {
   "cell_type": "markdown",
   "id": "5c0dfcdd-a1fa-40f8-90d8-edecdf03cee4",
   "metadata": {},
   "source": [
    "<h1>Activity 3 - Tokenize using 're' module</h1>"
   ]
  },
  {
   "cell_type": "code",
   "execution_count": 10,
   "id": "0dd83ec8-2599-4484-a742-f7e493439531",
   "metadata": {
    "scrolled": true
   },
   "outputs": [
    {
     "name": "stdout",
     "output_type": "stream",
     "text": [
      "len(tokens_by_re)\n",
      "3773\n",
      "Up to 100 tokens from tokens_from_re\n",
      "['', 'doctype', 'html', 'html', 'itemscope', 'itemtype', 'http', 'schema', 'org', 'WebPage', 'lang', 'en', 'head', 'meta', 'content', 'Search', 'the', 'world', 's', 'information', 'including', 'webpages', 'images', 'videos', 'and', 'more', 'Google', 'has', 'many', 'special', 'features', 'to', 'help', 'you', 'find', 'exactly', 'what', 'you', 're', 'looking', 'for', 'name', 'description', 'meta', 'content', 'noodp', 'name', 'robots', 'meta', 'content', 'text', 'html', 'charset', 'UTF', '8', 'http', 'equiv', 'Content', 'Type', 'meta', 'content', 'images', 'branding', 'googleg', '1x', 'googleg_standard_color_128dp', 'png', 'itemprop', 'image', 'title', 'Google', 'title', 'script', 'nonce', '_onlNetKnQN_ckCacsk9cw', 'function', 'var', '_g', 'kEI', 'Qg40Z5PGBJqpxc8Pz', 'fC8QU', 'kEXPI', '0', '3700322', '627', '122', '313', '538661', '2872', '2891', '43028', '30022', '16105', '334635', '2006', '8155', '8860', '14491', '22435', '9779']\n",
      "['',\n",
      " 'doctype',\n",
      " 'html',\n",
      " 'html',\n",
      " 'itemscope',\n",
      " 'itemtype',\n",
      " 'http',\n",
      " 'schema',\n",
      " 'org',\n",
      " 'WebPage',\n",
      " 'lang',\n",
      " 'en',\n",
      " 'head',\n",
      " 'meta',\n",
      " 'content',\n",
      " 'Search',\n",
      " 'the',\n",
      " 'world',\n",
      " 's',\n",
      " 'information',\n",
      " 'including',\n",
      " 'webpages',\n",
      " 'images',\n",
      " 'videos',\n",
      " 'and',\n",
      " 'more',\n",
      " 'Google',\n",
      " 'has',\n",
      " 'many',\n",
      " 'special',\n",
      " 'features',\n",
      " 'to',\n",
      " 'help',\n",
      " 'you',\n",
      " 'find',\n",
      " 'exactly',\n",
      " 'what',\n",
      " 'you',\n",
      " 're',\n",
      " 'looking',\n",
      " 'for',\n",
      " 'name',\n",
      " 'description',\n",
      " 'meta',\n",
      " 'content',\n",
      " 'noodp',\n",
      " 'name',\n",
      " 'robots',\n",
      " 'meta',\n",
      " 'content',\n",
      " 'text',\n",
      " 'html',\n",
      " 'charset',\n",
      " 'UTF',\n",
      " '8',\n",
      " 'http',\n",
      " 'equiv',\n",
      " 'Content',\n",
      " 'Type',\n",
      " 'meta',\n",
      " 'content',\n",
      " 'images',\n",
      " 'branding',\n",
      " 'googleg',\n",
      " '1x',\n",
      " 'googleg_standard_color_128dp',\n",
      " 'png',\n",
      " 'itemprop',\n",
      " 'image',\n",
      " 'title',\n",
      " 'Google',\n",
      " 'title',\n",
      " 'script',\n",
      " 'nonce',\n",
      " '_onlNetKnQN_ckCacsk9cw',\n",
      " 'function',\n",
      " 'var',\n",
      " '_g',\n",
      " 'kEI',\n",
      " 'Qg40Z5PGBJqpxc8Pz',\n",
      " 'fC8QU',\n",
      " 'kEXPI',\n",
      " '0',\n",
      " '3700322',\n",
      " '627',\n",
      " '122',\n",
      " '313',\n",
      " '538661',\n",
      " '2872',\n",
      " '2891',\n",
      " '43028',\n",
      " '30022',\n",
      " '16105',\n",
      " '334635',\n",
      " '2006',\n",
      " '8155',\n",
      " '8860',\n",
      " '14491',\n",
      " '22435',\n",
      " '9779']\n"
     ]
    }
   ],
   "source": [
    "import re\n",
    "\n",
    "text=str(text,'utf8')\n",
    "tokens_by_re=re.split(r'\\W+', text)\n",
    "\n",
    "print(\"len(tokens_by_re)\")\n",
    "print(len(tokens_by_re))\n",
    "print(\"Up to 100 tokens from tokens_from_re\")\n",
    "print(tokens_by_re[:100])\n",
    "\n",
    "import pprint\n",
    "pprint.pprint(tokens_by_re[:100])"
   ]
  },
  {
   "cell_type": "markdown",
   "id": "e970b5ed-8f38-40bb-96b7-a7f267c78185",
   "metadata": {},
   "source": [
    "<h1>Actiity 4 - Tokenize using NLTK</h1>"
   ]
  },
  {
   "cell_type": "code",
   "execution_count": 12,
   "id": "388435f1-4e7c-44af-9676-1393dd89572d",
   "metadata": {
    "scrolled": true
   },
   "outputs": [
    {
     "name": "stdout",
     "output_type": "stream",
     "text": [
      "['GoogleSearch',\n",
      " 'Images',\n",
      " 'Maps',\n",
      " 'Play',\n",
      " 'YouTube',\n",
      " 'News',\n",
      " 'Gmail',\n",
      " 'Drive',\n",
      " 'More',\n",
      " '»Web',\n",
      " 'History',\n",
      " '|',\n",
      " 'Settings',\n",
      " '|',\n",
      " 'Sign',\n",
      " 'in',\n",
      " 'Advanced',\n",
      " 'searchAdvertisingBusiness',\n",
      " 'SolutionsAbout',\n",
      " 'Google©',\n",
      " '2024',\n",
      " '-',\n",
      " 'Privacy',\n",
      " '-',\n",
      " 'Terms']\n"
     ]
    }
   ],
   "source": [
    "import nltk\n",
    "import bs4\n",
    "\n",
    "clean_html_text=bs4.BeautifulSoup(text).getText()\n",
    "\n",
    "tokens_by_cleaned_split=[token for token in clean_html_text.split()]\n",
    "\n",
    "pprint.pprint(tokens_by_cleaned_split)"
   ]
  },
  {
   "cell_type": "markdown",
   "id": "28f45664-bf1b-4753-a84c-75111cfed000",
   "metadata": {},
   "source": [
    "<h1>Activity 5 - Combine the above of find frequencies of a Web page</h1>"
   ]
  },
  {
   "cell_type": "code",
   "execution_count": 14,
   "id": "a3161224-f8d7-4f09-a52e-35c3204d7c68",
   "metadata": {},
   "outputs": [
    {
     "name": "stdout",
     "output_type": "stream",
     "text": [
      "FreqDist({'|': 2, '-': 2, 'GoogleSearch': 1, 'Images': 1, 'Maps': 1, 'Play': 1, 'YouTube': 1, 'News': 1, 'Gmail': 1, 'Drive': 1, ...})\n"
     ]
    }
   ],
   "source": [
    "freq_by_nltk=nltk.FreqDist(tokens_by_cleaned_split)\n",
    "pprint.pprint(freq_by_nltk)"
   ]
  },
  {
   "cell_type": "code",
   "execution_count": 15,
   "id": "5a85814e-83e1-448d-9803-93ea79cc8578",
   "metadata": {
    "scrolled": true
   },
   "outputs": [
    {
     "name": "stdout",
     "output_type": "stream",
     "text": [
      "[('|', 2),\n",
      " ('-', 2),\n",
      " ('GoogleSearch', 1),\n",
      " ('Images', 1),\n",
      " ('Maps', 1),\n",
      " ('Play', 1),\n",
      " ('YouTube', 1),\n",
      " ('News', 1),\n",
      " ('Gmail', 1),\n",
      " ('Drive', 1),\n",
      " ('More', 1),\n",
      " ('»Web', 1),\n",
      " ('History', 1),\n",
      " ('Settings', 1),\n",
      " ('Sign', 1),\n",
      " ('in', 1),\n",
      " ('Advanced', 1),\n",
      " ('searchAdvertisingBusiness', 1),\n",
      " ('SolutionsAbout', 1),\n",
      " ('Google©', 1),\n",
      " ('2024', 1),\n",
      " ('Privacy', 1),\n",
      " ('Terms', 1)]\n"
     ]
    }
   ],
   "source": [
    "import operator\n",
    "sorted_freq_by_nltk=sorted(freq_by_nltk.items(), key=operator.itemgetter(1), reverse=True)\n",
    "pprint.pprint(sorted_freq_by_nltk)"
   ]
  },
  {
   "cell_type": "code",
   "execution_count": 16,
   "id": "f5927afb-cd57-4538-afec-44587f55a47c",
   "metadata": {
    "scrolled": true
   },
   "outputs": [
    {
     "data": {
      "image/png": "[encoded data removed]",
      "text/plain": [
       "<Figure size 640x480 with 1 Axes>"
      ]
     },
     "metadata": {},
     "output_type": "display_data"
    },
    {
     "data": {
      "image/png": "[encoded data removed]",
      "text/plain": [
       "<Figure size 640x480 with 1 Axes>"
      ]
     },
     "metadata": {},
     "output_type": "display_data"
    },
    {
     "data": {
      "text/plain": [
       "<Axes: xlabel='Samples', ylabel='Cumulative Counts'>"
      ]
     },
     "execution_count": 16,
     "metadata": {},
     "output_type": "execute_result"
    }
   ],
   "source": [
    "freq_by_nltk.plot(30)\n",
    "freq_by_nltk.plot(30, cumulative=True)"
   ]
  },
  {
   "cell_type": "markdown",
   "id": "4e78605f-b131-4aff-891d-765cac2a946c",
   "metadata": {},
   "source": [
    "<h1>Activity 6 - Additional activities</h1>"
   ]
  },
  {
   "cell_type": "code",
   "execution_count": 18,
   "id": "c99b21f5-1170-417f-8339-5b874dc85d05",
   "metadata": {},
   "outputs": [
    {
     "name": "stdout",
     "output_type": "stream",
     "text": [
      "['Mark', 'is', 'studying', 'in', 'Centennial', 'College', 'in', 'Toronto']\n",
      "[('Mark', 'NNP'), ('is', 'VBZ'), ('studying', 'VBG'), ('in', 'IN'), ('Centennial', 'NNP'), ('College', 'NNP'), ('in', 'IN'), ('Toronto', 'NNP')]\n"
     ]
    }
   ],
   "source": [
    "import re\n",
    "import nltk\n",
    "tokens=re.split(' ', \"Mark is studying in Centennial College in Toronto\")\n",
    "print(tokens)\n",
    "#nltk.download()\n",
    "tagged=nltk.pos_tag(tokens)\n",
    "print(tagged)"
   ]
  },
  {
   "cell_type": "code",
   "execution_count": 19,
   "id": "7d8bcddc-0c02-46b2-afdf-029c5ae6d602",
   "metadata": {},
   "outputs": [
    {
     "name": "stdout",
     "output_type": "stream",
     "text": [
      "(S\n",
      "  (PERSON Mark/NNP)\n",
      "  is/VBZ\n",
      "  studying/VBG\n",
      "  in/IN\n",
      "  (ORGANIZATION Centennial/NNP College/NNP)\n",
      "  in/IN\n",
      "  (GPE Toronto/NNP))\n"
     ]
    }
   ],
   "source": [
    "entities=nltk.chunk.ne_chunk(tagged)\n",
    "print(entities)"
   ]
  },
  {
   "cell_type": "code",
   "execution_count": null,
   "id": "58c615a7-4968-4a01-8f6f-ca2d96beec4a",
   "metadata": {},
   "outputs": [],
   "source": [
    "from nltk.corpus import treebank\n",
    "t = treebank.parsed_sents('wsj_0001.mrg')[0]\n",
    "t.draw()"
   ]
  },
  {
   "cell_type": "code",
   "execution_count": null,
   "id": "3c473ca9-1c34-4079-a283-38065fdccb90",
   "metadata": {},
   "outputs": [],
   "source": []
  }
 ],
 "metadata": {
  "kernelspec": {
   "display_name": "Python 3 (ipykernel)",
   "language": "python",
   "name": "python3"
  },
  "language_info": {
   "codemirror_mode": {
    "name": "ipython",
    "version": 3
   },
   "file_extension": ".py",
   "mimetype": "text/x-python",
   "name": "python",
   "nbconvert_exporter": "python",
   "pygments_lexer": "ipython3",
   "version": "3.12.4"
  }
 },
 "nbformat": 4,
 "nbformat_minor": 5
}
