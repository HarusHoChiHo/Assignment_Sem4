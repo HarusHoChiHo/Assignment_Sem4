{
 "cells": [
  {
   "cell_type": "code",
   "execution_count": null,
   "id": "58f4ec0b-d2aa-45ce-b1e8-63a243086b25",
   "metadata": {},
   "outputs": [],
   "source": [
    "tensorflow 2.15.0"
   ]
  }
 ],
 "metadata": {
  "kernelspec": {
   "display_name": "Python 3 (ipykernel)",
   "language": "python",
   "name": "python3"
  },
  "language_info": {
   "codemirror_mode": {
    "name": "ipython",
    "version": 3
   },
   "file_extension": ".py",
   "mimetype": "text/x-python",
   "name": "python",
   "nbconvert_exporter": "python",
   "pygments_lexer": "ipython3",
   "version": "3.12.4"
  }
 },
 "nbformat": 4,
 "nbformat_minor": 5
}
